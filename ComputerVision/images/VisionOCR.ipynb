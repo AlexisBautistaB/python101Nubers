{
 "metadata": {
  "language_info": {
   "codemirror_mode": {
    "name": "ipython",
    "version": 3
   },
   "file_extension": ".py",
   "mimetype": "text/x-python",
   "name": "python",
   "nbconvert_exporter": "python",
   "pygments_lexer": "ipython3",
   "version": "3.8.3-final"
  },
  "orig_nbformat": 2,
  "kernelspec": {
   "name": "Python 3.8.3 64-bit",
   "display_name": "Python 3.8.3 64-bit",
   "metadata": {
    "interpreter": {
     "hash": "d9af2e32a5ad6e5c5f98229481d7f4ca3d60c1f6ad52fd9ba4da285d14500705"
    }
   }
  }
 },
 "nbformat": 4,
 "nbformat_minor": 2,
 "cells": [
  {
   "source": [
    "# Vision por Computadora con Computer Vision"
   ],
   "cell_type": "markdown",
   "metadata": {}
  },
  {
   "source": [
    "## Instalamos la biblioteca de Computer Vision"
   ],
   "cell_type": "markdown",
   "metadata": {}
  },
  {
   "cell_type": "code",
   "execution_count": 1,
   "metadata": {},
   "outputs": [
    {
     "output_type": "stream",
     "name": "stdout",
     "text": [
      "Defaulting to user installation because normal site-packages is not writeable\n",
      "Collecting azure-cognitiveservices-vision-computervision\n",
      "  Downloading azure_cognitiveservices_vision_computervision-0.7.0-py2.py3-none-any.whl (35 kB)\n",
      "Collecting azure-common~=1.1\n",
      "  Downloading azure_common-1.1.25-py2.py3-none-any.whl (12 kB)\n",
      "Collecting msrest>=0.5.0\n",
      "  Downloading msrest-0.6.19-py2.py3-none-any.whl (84 kB)\n",
      "\u001b[K     |████████████████████████████████| 84 kB 1.3 MB/s \n",
      "\u001b[?25hCollecting requests~=2.16\n",
      "  Downloading requests-2.24.0-py2.py3-none-any.whl (61 kB)\n",
      "\u001b[K     |████████████████████████████████| 61 kB 163 kB/s \n",
      "\u001b[?25hCollecting isodate>=0.6.0\n",
      "  Downloading isodate-0.6.0-py2.py3-none-any.whl (45 kB)\n",
      "\u001b[K     |████████████████████████████████| 45 kB 1.9 MB/s \n",
      "\u001b[?25hCollecting certifi>=2017.4.17\n",
      "  Downloading certifi-2020.6.20-py2.py3-none-any.whl (156 kB)\n",
      "\u001b[K     |████████████████████████████████| 156 kB 18.8 MB/s \n",
      "\u001b[?25hCollecting requests-oauthlib>=0.5.0\n",
      "  Downloading requests_oauthlib-1.3.0-py2.py3-none-any.whl (23 kB)\n",
      "Collecting chardet<4,>=3.0.2\n",
      "  Downloading chardet-3.0.4-py2.py3-none-any.whl (133 kB)\n",
      "\u001b[K     |████████████████████████████████| 133 kB 39.9 MB/s \n",
      "\u001b[?25hCollecting idna<3,>=2.5\n",
      "  Downloading idna-2.10-py2.py3-none-any.whl (58 kB)\n",
      "\u001b[K     |████████████████████████████████| 58 kB 2.0 MB/s \n",
      "\u001b[?25hCollecting urllib3!=1.25.0,!=1.25.1,<1.26,>=1.21.1\n",
      "  Downloading urllib3-1.25.10-py2.py3-none-any.whl (127 kB)\n",
      "\u001b[K     |████████████████████████████████| 127 kB 24.8 MB/s \n",
      "\u001b[?25hRequirement already satisfied, skipping upgrade: six in /home/codespace/.local/lib/python3.8/site-packages (from isodate>=0.6.0->msrest>=0.5.0->azure-cognitiveservices-vision-computervision) (1.15.0)\n",
      "Collecting oauthlib>=3.0.0\n",
      "  Downloading oauthlib-3.1.0-py2.py3-none-any.whl (147 kB)\n",
      "\u001b[K     |████████████████████████████████| 147 kB 40.7 MB/s \n",
      "\u001b[?25hInstalling collected packages: azure-common, certifi, chardet, idna, urllib3, requests, isodate, oauthlib, requests-oauthlib, msrest, azure-cognitiveservices-vision-computervision\n",
      "Successfully installed azure-cognitiveservices-vision-computervision-0.7.0 azure-common-1.1.25 certifi-2020.6.20 chardet-3.0.4 idna-2.10 isodate-0.6.0 msrest-0.6.19 oauthlib-3.1.0 requests-2.24.0 requests-oauthlib-1.3.0 urllib3-1.25.10\n",
      "Cleaning up...\n",
      "\u001b[33mWARNING: You are using pip version 20.0.2; however, version 20.2.3 is available.\n",
      "You should consider upgrading via the '/opt/python/latest/bin/python -m pip install --upgrade pip' command.\u001b[0m\n",
      "Note: you may need to restart the kernel to use updated packages.\n"
     ]
    }
   ],
   "source": [
    "pip install --upgrade azure-cognitiveservices-vision-computervision"
   ]
  },
  {
   "source": [
    "## Importamos las Bibliotecas de Cliente, Credenciales, Visual Features Types, Operation Status"
   ],
   "cell_type": "markdown",
   "metadata": {}
  },
  {
   "cell_type": "code",
   "execution_count": 2,
   "metadata": {},
   "outputs": [],
   "source": [
    "from azure.cognitiveservices.vision.computervision import ComputerVisionClient\n",
    "from msrest.authentication import CognitiveServicesCredentials\n",
    "\n",
    "from azure.cognitiveservices.vision.computervision.models import VisualFeatureTypes\n",
    "from azure.cognitiveservices.vision.computervision.models import OperationStatusCodes"
   ]
  },
  {
   "source": [
    "## Configuramos nuestras credenciales de Azure \n",
    "\n",
    "* Creamos el servicio de Computer Vision\n",
    "* Revisamos las Claves, Endpoint y Region"
   ],
   "cell_type": "markdown",
   "metadata": {}
  },
  {
   "cell_type": "code",
   "execution_count": 3,
   "metadata": {},
   "outputs": [],
   "source": [
    "key = '4e3a7b86a81c4b2ab0ef68f776ed2409'\n",
    "endpoint= 'https://demo-vision-nube.cognitiveservices.azure.com/'"
   ]
  },
  {
   "source": [
    "## Autenticamos el cliente"
   ],
   "cell_type": "markdown",
   "metadata": {}
  },
  {
   "cell_type": "code",
   "execution_count": 4,
   "metadata": {},
   "outputs": [],
   "source": [
    "client = ComputerVisionClient(endpoint, CognitiveServicesCredentials(key))"
   ]
  },
  {
   "source": [
    "## Agregamos la imagen que queremos analizar\n",
    "\n",
    "Al igual que con el Big Ben revisamos lo que tenemos disponible en el objeto describe"
   ],
   "cell_type": "markdown",
   "metadata": {}
  },
  {
   "source": [
    "![](https://images.unsplash.com/photo-1600821338897-eaadbb51b1e9?ixlib=rb-1.2.1&auto=format&fit=crop&w=1350&q=80)"
   ],
   "cell_type": "markdown",
   "metadata": {}
  },
  {
   "cell_type": "code",
   "execution_count": 5,
   "metadata": {},
   "outputs": [
    {
     "output_type": "execute_result",
     "data": {
      "text/plain": [
       "['__class__',\n",
       " '__delattr__',\n",
       " '__dict__',\n",
       " '__dir__',\n",
       " '__doc__',\n",
       " '__eq__',\n",
       " '__format__',\n",
       " '__ge__',\n",
       " '__getattribute__',\n",
       " '__gt__',\n",
       " '__hash__',\n",
       " '__init__',\n",
       " '__init_subclass__',\n",
       " '__le__',\n",
       " '__lt__',\n",
       " '__module__',\n",
       " '__ne__',\n",
       " '__new__',\n",
       " '__reduce__',\n",
       " '__reduce_ex__',\n",
       " '__repr__',\n",
       " '__setattr__',\n",
       " '__sizeof__',\n",
       " '__str__',\n",
       " '__subclasshook__',\n",
       " '__weakref__',\n",
       " '_attribute_map',\n",
       " '_classify',\n",
       " '_create_xml_node',\n",
       " '_flatten_subtype',\n",
       " '_get_rest_key_parts',\n",
       " '_infer_class_models',\n",
       " '_subtype_map',\n",
       " '_validation',\n",
       " 'additional_properties',\n",
       " 'as_dict',\n",
       " 'captions',\n",
       " 'deserialize',\n",
       " 'enable_additional_properties_sending',\n",
       " 'from_dict',\n",
       " 'is_xml_model',\n",
       " 'metadata',\n",
       " 'request_id',\n",
       " 'serialize',\n",
       " 'tags',\n",
       " 'validate']"
      ]
     },
     "metadata": {},
     "execution_count": 5
    }
   ],
   "source": [
    "imagen = 'https://images.unsplash.com/photo-1600821338897-eaadbb51b1e9?ixlib=rb-1.2.1&auto=format&fit=crop&w=1350&q=80'\n",
    "describe = client.describe_image(imagen)\n",
    "dir(describe)"
   ]
  },
  {
   "source": [
    "## Obtenemos las etiquetas de nuestra imagen"
   ],
   "cell_type": "markdown",
   "metadata": {}
  },
  {
   "cell_type": "code",
   "execution_count": 6,
   "metadata": {},
   "outputs": [
    {
     "output_type": "execute_result",
     "data": {
      "text/plain": [
       "['sky', 'outdoor', 'city', 'river']"
      ]
     },
     "metadata": {},
     "execution_count": 6
    }
   ],
   "source": [
    "describe.tags"
   ]
  },
  {
   "source": [
    "## Obtenemos la descripción de la imagen misma"
   ],
   "cell_type": "markdown",
   "metadata": {}
  },
  {
   "cell_type": "code",
   "execution_count": 7,
   "metadata": {},
   "outputs": [
    {
     "output_type": "stream",
     "name": "stdout",
     "text": [
      "a city skyline with a body of water in the foreground 0.5147209763526917\n"
     ]
    }
   ],
   "source": [
    "for caption in describe.captions:\n",
    "  print(caption.text, caption.confidence)"
   ]
  },
  {
   "source": [
    "## Detectamos los objetos que se encuentran en la imagen y los encerramos en un rectangulo"
   ],
   "cell_type": "markdown",
   "metadata": {}
  },
  {
   "cell_type": "code",
   "execution_count": 8,
   "metadata": {},
   "outputs": [
    {
     "output_type": "stream",
     "name": "stdout",
     "text": [
      "building {'additional_properties': {}, 'x': 107, 'y': 540, 'w': 87, 'h': 207}\nbuilding {'additional_properties': {}, 'x': 575, 'y': 457, 'w': 82, 'h': 313}\nbuilding {'additional_properties': {}, 'x': 428, 'y': 563, 'w': 93, 'h': 214}\nbuilding {'additional_properties': {}, 'x': 1110, 'y': 553, 'w': 82, 'h': 244}\nbuilding {'additional_properties': {}, 'x': 1211, 'y': 587, 'w': 72, 'h': 191}\nbuilding {'additional_properties': {}, 'x': 870, 'y': 161, 'w': 149, 'h': 600}\nbuilding {'additional_properties': {}, 'x': 692, 'y': 377, 'w': 118, 'h': 375}\nbuilding {'additional_properties': {}, 'x': 403, 'y': 449, 'w': 137, 'h': 319}\nbuilding {'additional_properties': {}, 'x': 829, 'y': 457, 'w': 133, 'h': 305}\nbuilding {'additional_properties': {}, 'x': 966, 'y': 547, 'w': 142, 'h': 243}\n"
     ]
    }
   ],
   "source": [
    "detect = client.detect_objects(imagen)\n",
    "for objetos in detect.objects:\n",
    "  print(objetos.object_property, objetos.rectangle)"
   ]
  },
  {
   "source": [
    "## Revisamos si podemos identificar de que edificios se trata"
   ],
   "cell_type": "markdown",
   "metadata": {}
  },
  {
   "cell_type": "code",
   "execution_count": 10,
   "metadata": {},
   "outputs": [
    {
     "output_type": "execute_result",
     "data": {
      "text/plain": [
       "{'landmarks': []}"
      ]
     },
     "metadata": {},
     "execution_count": 10
    }
   ],
   "source": [
    "landmark = client.analyze_image_by_domain(\"landmarks\", imagen)\n",
    "landmark.result"
   ]
  },
  {
   "source": [
    "## Identificamos la categoria en la que clasifica la imagen"
   ],
   "cell_type": "markdown",
   "metadata": {}
  },
  {
   "cell_type": "code",
   "execution_count": 11,
   "metadata": {},
   "outputs": [
    {
     "output_type": "stream",
     "name": "stdout",
     "text": [
      "{'additional_properties': {}, 'name': 'building_', 'score': 0.28515625, 'detail': None}\n{'additional_properties': {}, 'name': 'outdoor_', 'score': 0.0078125, 'detail': None}\n{'additional_properties': {}, 'name': 'outdoor_city', 'score': 0.3515625, 'detail': None}\n"
     ]
    }
   ],
   "source": [
    "analyze = client.analyze_image(imagen)\n",
    "for category in analyze.categories:\n",
    "    print(category)"
   ]
  },
  {
   "source": [
    "# Procesando una imagen"
   ],
   "cell_type": "markdown",
   "metadata": {}
  },
  {
   "cell_type": "code",
   "execution_count": 14,
   "metadata": {},
   "outputs": [
    {
     "output_type": "error",
     "ename": "FileNotFoundError",
     "evalue": "[Errno 2] No such file or directory: './images/house.jpg'",
     "traceback": [
      "\u001b[0;31m---------------------------------------------------------------------------\u001b[0m",
      "\u001b[0;31mFileNotFoundError\u001b[0m                         Traceback (most recent call last)",
      "\u001b[0;32m<ipython-input-14-1a9ccd653891>\u001b[0m in \u001b[0;36m<module>\u001b[0;34m\u001b[0m\n\u001b[0;32m----> 1\u001b[0;31m \u001b[0;32mwith\u001b[0m \u001b[0mopen\u001b[0m \u001b[0;34m(\u001b[0m\u001b[0;34m'./images/house.jpg'\u001b[0m\u001b[0;34m,\u001b[0m \u001b[0;34m'rb'\u001b[0m\u001b[0;34m)\u001b[0m \u001b[0;32mas\u001b[0m \u001b[0mimage_demo\u001b[0m\u001b[0;34m:\u001b[0m\u001b[0;34m\u001b[0m\u001b[0;34m\u001b[0m\u001b[0m\n\u001b[0m\u001b[1;32m      2\u001b[0m   image_analysis = client.analyze_image_in_stream(\n\u001b[1;32m      3\u001b[0m       \u001b[0mimage\u001b[0m\u001b[0;34m=\u001b[0m \u001b[0mimage_demo\u001b[0m\u001b[0;34m,\u001b[0m\u001b[0;34m\u001b[0m\u001b[0;34m\u001b[0m\u001b[0m\n\u001b[1;32m      4\u001b[0m       visual_features = [\n\u001b[1;32m      5\u001b[0m           \u001b[0mVisualFeatureTypes\u001b[0m\u001b[0;34m.\u001b[0m\u001b[0mimage_type\u001b[0m\u001b[0;34m,\u001b[0m\u001b[0;34m\u001b[0m\u001b[0;34m\u001b[0m\u001b[0m\n",
      "\u001b[0;31mFileNotFoundError\u001b[0m: [Errno 2] No such file or directory: './images/house.jpg'"
     ]
    }
   ],
   "source": [
    "with open ('./images/house.jpg', 'rb') as image_demo:\n",
    "  image_analysis = client.analyze_image_in_stream(\n",
    "      image= image_demo,\n",
    "      visual_features = [\n",
    "          VisualFeatureTypes.image_type,\n",
    "          VisualFeatureTypes.faces,\n",
    "          VisualFeatureTypes.categories,\n",
    "          VisualFeatureTypes.color,\n",
    "          VisualFeatureTypes.tags,\n",
    "          VisualFeatureTypes.description\n",
    "      ]\n",
    "  )"
   ]
  },
  {
   "cell_type": "code",
   "execution_count": null,
   "metadata": {},
   "outputs": [],
   "source": []
  }
 ]
}