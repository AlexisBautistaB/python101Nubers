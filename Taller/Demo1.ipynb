{
 "metadata": {
  "language_info": {
   "codemirror_mode": {
    "name": "ipython",
    "version": 3
   },
   "file_extension": ".py",
   "mimetype": "text/x-python",
   "name": "python",
   "nbconvert_exporter": "python",
   "pygments_lexer": "ipython3",
   "version": "3.8.3-final"
  },
  "orig_nbformat": 2,
  "kernelspec": {
   "name": "Python 3.8.3 64-bit",
   "display_name": "Python 3.8.3 64-bit",
   "metadata": {
    "interpreter": {
     "hash": "d9af2e32a5ad6e5c5f98229481d7f4ca3d60c1f6ad52fd9ba4da285d14500705"
    }
   }
  }
 },
 "nbformat": 4,
 "nbformat_minor": 2,
 "cells": [
  {
   "cell_type": "code",
   "execution_count": 1,
   "metadata": {},
   "outputs": [
    {
     "output_type": "stream",
     "name": "stdout",
     "text": [
      "Hola Nubers\n"
     ]
    }
   ],
   "source": [
    "print('Hola Nubers')"
   ]
  },
  {
   "cell_type": "code",
   "execution_count": 4,
   "metadata": {},
   "outputs": [],
   "source": [
    "#Este es un comentario"
   ]
  },
  {
   "cell_type": "code",
   "execution_count": 5,
   "metadata": {},
   "outputs": [
    {
     "output_type": "stream",
     "name": "stdout",
     "text": [
      "Hola nubers\n"
     ]
    }
   ],
   "source": [
    "print('Hola nubers')  #Print significa mostrar "
   ]
  },
  {
   "cell_type": "code",
   "execution_count": 25,
   "metadata": {},
   "outputs": [],
   "source": [
    "# Receta\n",
    "\n",
    "# Ingredientes - Variables\n",
    "harina = 3\n",
    "huevo = 3\n",
    "leche = 1.5\n",
    "cVainilla = 0.025\n",
    "mantequilla = 0.45\n",
    "\n",
    "tituloReceta = 'Cómo hacer hotcakes'\n",
    "\n"
   ]
  },
  {
   "cell_type": "code",
   "execution_count": 26,
   "metadata": {},
   "outputs": [
    {
     "output_type": "stream",
     "name": "stdout",
     "text": [
      "Cómo hacer hotcakes\nIngredientes\n\nHarina: 3\nHuevo: 3\nLeche: 1.5\nMantequilla: 0.45\nVainilla: 0.025\n"
     ]
    }
   ],
   "source": [
    "print(tituloReceta)\n",
    "print('Ingredientes')\n",
    "print('')\n",
    "print('Harina: '+ str(harina))\n",
    "print('Huevo: '+ str(huevo))\n",
    "print('Leche: '+ str(leche))\n",
    "print('Mantequilla: '+ str(mantequilla))\n",
    "print('Vainilla: '+ str(cVainilla)) #Notacion camelCase "
   ]
  },
  {
   "cell_type": "code",
   "execution_count": 27,
   "metadata": {},
   "outputs": [],
   "source": [
    "# Hacer la mezcla (Sumamos)\n",
    "mezcla = harina + huevo + leche + mantequilla + cVainilla"
   ]
  },
  {
   "cell_type": "code",
   "execution_count": 28,
   "metadata": {},
   "outputs": [
    {
     "output_type": "stream",
     "name": "stdout",
     "text": [
      "7.9750000000000005\n"
     ]
    }
   ],
   "source": [
    "print(mezcla)"
   ]
  },
  {
   "cell_type": "code",
   "execution_count": 33,
   "metadata": {},
   "outputs": [
    {
     "output_type": "stream",
     "name": "stdout",
     "text": [
      "La mantequilla esta mal\n"
     ]
    }
   ],
   "source": [
    "if mezcla < 7.675:\n",
    "    print('Los ingredientes son correctos')\n",
    "elif mezcla == 7.9750000000000005:\n",
    "    print('La mantequilla esta mal')\n",
    "else:\n",
    "    print('Revisa tus ingredientes')"
   ]
  },
  {
   "cell_type": "code",
   "execution_count": 34,
   "metadata": {},
   "outputs": [],
   "source": [
    "mantequilla = mantequilla - 0.15"
   ]
  },
  {
   "cell_type": "code",
   "execution_count": 35,
   "metadata": {},
   "outputs": [],
   "source": [
    "mezcla = harina + huevo + leche + mantequilla + cVainilla"
   ]
  },
  {
   "cell_type": "code",
   "execution_count": 36,
   "metadata": {},
   "outputs": [
    {
     "output_type": "stream",
     "name": "stdout",
     "text": [
      "7.825\n"
     ]
    }
   ],
   "source": [
    "print(mezcla)"
   ]
  },
  {
   "cell_type": "code",
   "execution_count": 37,
   "metadata": {},
   "outputs": [
    {
     "output_type": "stream",
     "name": "stdout",
     "text": [
      "Cómo hacer hotcakes\nIngredientes\n\nHarina: 3\nHuevo: 3\nLeche: 1.5\nMantequilla: 0.30000000000000004\nVainilla: 0.025\n"
     ]
    }
   ],
   "source": [
    "print(tituloReceta)\n",
    "print('Ingredientes')\n",
    "print('')\n",
    "print('Harina: '+ str(harina))\n",
    "print('Huevo: '+ str(huevo))\n",
    "print('Leche: '+ str(leche))\n",
    "print('Mantequilla: '+ str(mantequilla))\n",
    "print('Vainilla: '+ str(cVainilla)) #Notacion camelCase "
   ]
  },
  {
   "cell_type": "code",
   "execution_count": 23,
   "metadata": {},
   "outputs": [
    {
     "output_type": "stream",
     "name": "stdout",
     "text": [
      "Los ingredientes son correctos\n"
     ]
    }
   ],
   "source": [
    "if mezcla > 7.675:\n",
    "    print('Los ingredientes son correctos')"
   ]
  },
  {
   "cell_type": "code",
   "execution_count": 38,
   "metadata": {},
   "outputs": [
    {
     "output_type": "stream",
     "name": "stdout",
     "text": [
      "Revisa tus ingredientes\n"
     ]
    }
   ],
   "source": [
    "if mezcla < 7.675:\n",
    "    print('Los ingredientes son correctos')\n",
    "elif mezcla == 7.9750000000000005:\n",
    "    print('La mantequilla esta mal')\n",
    "else:\n",
    "    print('Revisa tus ingredientes')"
   ]
  },
  {
   "cell_type": "code",
   "execution_count": 39,
   "metadata": {},
   "outputs": [
    {
     "output_type": "stream",
     "name": "stdout",
     "text": [
      "Por supesto, tienes. 42500\n"
     ]
    }
   ],
   "source": [
    "pago15Oct = 35000\n",
    "bono15Oct = 7500\n",
    "\n",
    "compuGamer = 42000\n",
    "total = pago15Oct + bono15Oct\n",
    "\n",
    "if total < compuGamer:\n",
    "    print('Esta quincena no sera, tienes: '+ str(total))\n",
    "elif total == compuGamer:\n",
    "    print('Pensando que no vas a comer nada hasta la siguiente quincena, te alcanza')\n",
    "else:\n",
    "    print('Por supesto, tienes: '+ str(total))"
   ]
  },
  {
   "cell_type": "code",
   "execution_count": 40,
   "metadata": {},
   "outputs": [
    {
     "output_type": "stream",
     "name": "stdout",
     "text": [
      "34300\n"
     ]
    }
   ],
   "source": [
    "renta = 2400\n",
    "despensa = 2000\n",
    "servicios = 3800\n",
    "\n",
    "gastosFijos = renta + despensa + servicios\n",
    "total = total - gastosFijos\n",
    "\n",
    "print(str(total))"
   ]
  },
  {
   "cell_type": "code",
   "execution_count": 41,
   "metadata": {},
   "outputs": [
    {
     "output_type": "stream",
     "name": "stdout",
     "text": [
      "Esta quincena no sera, tienes: 34300\n"
     ]
    }
   ],
   "source": [
    "if total < compuGamer:\n",
    "    print('Esta quincena no sera, tienes: '+ str(total))\n",
    "elif total == compuGamer:\n",
    "    print('Pensando que no vas a comer nada hasta la siguiente quincena, te alcanza')\n",
    "else:\n",
    "    print('Por supesto, tienes: '+ str(total))"
   ]
  },
  {
   "cell_type": "code",
   "execution_count": null,
   "metadata": {},
   "outputs": [],
   "source": []
  }
 ]
}